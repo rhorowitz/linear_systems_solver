{
 "cells": [
  {
   "cell_type": "markdown",
   "metadata": {},
   "source": [
    "# Team Project 3 - Solving a System of Linear Equations\n",
    "\n",
    "In this project, we compare the performance of three different methods of solving a system of linear equations. The lesson that I hope you may get is that finding an efficient method is not an unneccessary complication."
   ]
  },
  {
   "cell_type": "markdown",
   "metadata": {},
   "source": [
    "#### 1. (10 pts) Create a function randmat(n) which returns a random square matrix constructed as the following recipe. \n",
    "<ul>\n",
    "    <li>The size of the matrix is $n \\times n$.</li>\n",
    "    <li>Each off-diagonal entry ($a_{ij}$ where $i \\ne j$) is a random number in $[0, 1)$. A random number can be constructed by the random method (see <a href=\"https://docs.scipy.org/doc/numpy/reference/routines.random.html\">here</a>).</li>\n",
    "    <li>A diagonal entry $a_{ii}$ is a random number in $[n, n+1)$. (This condition guarantees that the matrix $(a_{ij})$ is strictly diagonally dominant, hence invertible.)</li>\n",
    "</ul>\n",
    "\n",
    "#### And create a function randvec(n) which returns an $n$-dimensional random vector whose entries are random numbers in $[0, 100)$. "
   ]
  },
  {
   "cell_type": "code",
   "execution_count": 1,
   "metadata": {},
   "outputs": [],
   "source": [
    "import numpy as np\n",
    "\n",
    "def randmat(n):\n",
    "    arr = [[0 for i in range(n)] for j in range(n)]\n",
    "    for i in range(n):\n",
    "        for j in range(n):\n",
    "            if i == j:\n",
    "                arr[i][i] = np.random.random() + n\n",
    "            else:\n",
    "                arr[i][j] = np.random.random()\n",
    "    return arr\n",
    "\n",
    "def randvec(n):\n",
    "    vec = []\n",
    "    for i in range(n):\n",
    "        x = np.random.uniform(0,100)\n",
    "        vec.append(x)\n",
    "    return vec\n",
    "\n",
    "n = np.random.randint(1, 5)"
   ]
  },
  {
   "cell_type": "markdown",
   "metadata": {},
   "source": [
    "#### 2. (10 pts) Create a function GaussElim(A, b) which solves a system of linear equations $Ax = b$ by using Gaussian Elimination with the partial pivoting."
   ]
  },
  {
   "cell_type": "code",
   "execution_count": 2,
   "metadata": {},
   "outputs": [
    {
     "name": "stdout",
     "output_type": "stream",
     "text": [
      "[2.0, 3.0, -0.9999999999999998]\n"
     ]
    }
   ],
   "source": [
    "import numpy as np\n",
    "\n",
    "def GaussElim(A,b):\n",
    "    n = len(A)\n",
    "    for i in range(0,n):\n",
    "        A[i].append(b[i])\n",
    "    for i in range(0,n):\n",
    "        maxEl = np.abs(A[i][i])\n",
    "        index = i\n",
    "    #find max below the diagonal\n",
    "        for k in range(i+1, n):\n",
    "            if (np.abs(A[k][i]) > maxEl):\n",
    "                maxEl = np.abs(A[k][i])\n",
    "                index = k\n",
    "        for k in range(i, n+1):\n",
    "            temp = A[index][k]\n",
    "            A[index][k] = A[i][k]\n",
    "            A[i][k] = temp\n",
    "        for k in range(i+1, n):\n",
    "            num = -(A[k][i]/A[i][i])\n",
    "            for j in range(i, n+1):\n",
    "                if i == j:\n",
    "                    A[k][j] = 0\n",
    "                else:\n",
    "                    A[k][j] += num * A[i][j]\n",
    "\n",
    "    #solve upper-triangular matrix equation\n",
    "    x = [0 for i in range(n)]\n",
    "    for i in range(n-1,-1,-1):\n",
    "        x[i] = (A[i][n])/(A[i][i])\n",
    "        for k in range(i-1, -1,-1):\n",
    "            A[k][n] -= (A[k][i])*(x[i])\n",
    "    return x\n",
    "\n",
    "\n",
    "A = [[2,-1,0], [-1,3,-1], [0,-1,2]]\n",
    "b = [1,8,-5]\n",
    "\n",
    "\n",
    "print(GaussElim(A,b))\n"
   ]
  },
  {
   "cell_type": "markdown",
   "metadata": {},
   "source": [
    "#### 3. (10 pts) Create a function Jacobi(A, b, err) which solves a system of linear equations $Ax = b$ by using Jacobi interation method. Set $x^{(0)} = \\vec{0}$. We stop the iteration when the estimation of the error $||x^{(k)} - x^{(k-1)}||_\\infty$ is less than err or $k = 1000$. (Here $x^{(k)}$ is the $k$-th output of the iteration)."
   ]
  },
  {
   "cell_type": "code",
   "execution_count": 3,
   "metadata": {},
   "outputs": [
    {
     "name": "stdout",
     "output_type": "stream",
     "text": [
      "[1.9999998954624207, 2.9999993727745253, -1.0000001045375793]\n"
     ]
    }
   ],
   "source": [
    "def Jacobi(A, b, err):\n",
    "    # Find D\n",
    "    D = [[0 for i in range(len(A))] for j in range(len(A))]\n",
    "    for i in range(len(A)):\n",
    "        D[i][i] = A[i][i]\n",
    "    \n",
    "    # Find R = L + U\n",
    "    R = [[0 for i in range(len(A))] for j in range(len(A))]\n",
    "    for i in range(len(A)):\n",
    "        for j in range(len(A)):\n",
    "            R[i][j] = D[i][j] - A[i][j]\n",
    "   \n",
    "    # Create initial guess x-vector        \n",
    "    x_0 = [0 for i in range(len(A))]   \n",
    "    \n",
    "    #Find D^-1\n",
    "    D_inv = [[0 for i in range(len(A))] for j in range(len(A))]\n",
    "    for i in range(len(A)):\n",
    "        D_inv[i][i] = 1/(A[i][i])\n",
    "\n",
    "    # Do the iterations\n",
    " \n",
    "    x_1 = [0 for i in range (len(A))]\n",
    "    \n",
    "    k = 1\n",
    "    while True:\n",
    "        y = np.matmul(R,x_0)\n",
    "        n = np.matmul(D_inv,y)\n",
    "        q = np.matmul(D_inv,b)\n",
    "        for i in range(len(A)):\n",
    "            x_1[i] = n[i] + q[i]\n",
    "        k += 1\n",
    "        if (findnorm(x_1, x_0) < err or k == 1000):\n",
    "            break\n",
    "        else:\n",
    "            for i in range (len(A)):\n",
    "                x_0[i] = x_1[i]\n",
    "    return x_1\n",
    "        \n",
    "                 \n",
    "def findnorm(x_1, x_0):\n",
    "    max = np.abs(x_1[0]-x_0[0])\n",
    "    for i in range(len(x_0)):\n",
    "        diff = np.abs(x_1[i] - x_0[i])\n",
    "        if diff > max:\n",
    "            max = diff  \n",
    "    return max\n",
    "\n",
    "A = [[2,-1,0], [-1,3,-1], [0,-1,2]]\n",
    "b = [1,8,-5]\n",
    "\n",
    "\n",
    "print(Jacobi(A,b,0.000001))"
   ]
  },
  {
   "cell_type": "markdown",
   "metadata": {},
   "source": [
    "#### 4. (10 pts) Create a function GaussSeidel(A, b, err) which solves a system of linear equations $Ax = b$ by using Gauss-Seidel interation method. Set $x^{(0)} = \\vec{0}$. We stop the iteration when the estimation of the error $||x^{(k)} - x^{(k-1)}||_\\infty$ is less than err or $k = 1000$. (Here $x^{(k)}$ is the $k$-th output of the iteration)."
   ]
  },
  {
   "cell_type": "code",
   "execution_count": 4,
   "metadata": {},
   "outputs": [
    {
     "name": "stdout",
     "output_type": "stream",
     "text": [
      "[1.9999957662280476, 2.9999971774853647, -1.0000014112573177]\n"
     ]
    }
   ],
   "source": [
    "import numpy as np\n",
    "\n",
    "def GaussSeidel (A,b, err):\n",
    "    # Find D\n",
    "    D = [[0 for i in range(len(A))] for j in range(len(A))]\n",
    "    for i in range(len(A)):       \n",
    "         D[i][i] = A[i][i]\n",
    "    \n",
    "    # Find R = L + U\n",
    "    R = [[0 for i in range(len(A))] for j in range(len(A))]\n",
    "    for i in range(len(A)):\n",
    "        for j in range(len(A)):\n",
    "            R[i][j] = A[i][j] - D[i][j]\n",
    "            \n",
    "    # Find D^-1\n",
    "    D_inv = [[0 for i in range(len(A))] for j in range(len(A))]\n",
    "    for i in range(len(A)):\n",
    "            D_inv[i][i] = 1/(A[i][i])\n",
    "                \n",
    "    # Create initial guess x-vector        \n",
    "    x_0 = [0.0 for i in range(len(A))] \n",
    "    \n",
    "    x = [0.0 for i in range(len(A))]\n",
    "    \n",
    "    #Do iterations\n",
    "    \n",
    "    k = 1\n",
    "    z = [0.0 for i in range(len(A))]\n",
    "    while True:\n",
    "        for i in range(len(A)):\n",
    "            z[i] = x_0[i]\n",
    "            x[i] = D_inv[i][i] * (b[i]-np.matmul(R[i],x_0))\n",
    "            x_0[i] = x[i] \n",
    "        if (findnorm(z, x) < err or k == 1000):\n",
    "            break\n",
    "        else:\n",
    "            k += 1\n",
    "    return x\n",
    "                \n",
    "\n",
    "def findnorm(x_0, x):\n",
    "    max = np.abs(x[0]-x_0[0])\n",
    "    for i in range(len(x_0)):\n",
    "        diff = np.abs(x[i] - x_0[i])\n",
    "        if diff > max:\n",
    "            max = diff  \n",
    "    return max\n",
    "\n",
    "A = [[2,-1,0], [-1,3,-1], [0,-1,2]]\n",
    "b = [1,8,-5]\n",
    "\n",
    "\n",
    "print(GaussSeidel(A,b,0.00001))"
   ]
  },
  {
   "cell_type": "markdown",
   "metadata": {},
   "source": [
    "#### 5. (10 pts) For $n = 100, 200, 300, \\cdots , 1000$, create a random $n \\times n$ matrix $A$ and a random $n$-dimensional vector $b$. Solve the system of linear equations $Ax = b$ by using GaussElim(A, b), Jacobi(A, b, err), and GaussSeidel(A, b, err). Use $10^{-6}$ for the error tolerance. Record the excution time for each method. Plot the graph of the excution time for those three methods on the same plane.\n",
    "\n",
    "For the computation of the excution time, you may use the following method:"
   ]
  },
  {
   "cell_type": "code",
   "execution_count": null,
   "metadata": {
    "scrolled": true
   },
   "outputs": [],
   "source": [
    "import matplotlib.pyplot as plt\n",
    "import numpy as np\n",
    "import time\n",
    "\n",
    "list1 = []\n",
    "list2 = []\n",
    "list3 = []\n",
    "\n",
    "#This code takes like a minute or two, please be patient :)\n",
    "\n",
    "for n in range(100,1000,100):\n",
    " \n",
    "    #Create random vector(n x 1) and matrix (n x n)\n",
    "    A = randmat(n)\n",
    "    b = randvec(n)\n",
    "    err = 10 ** (-6)\n",
    "    \n",
    "    start = time.time()\n",
    "    GaussElim(A,b)\n",
    "    end = time.time()\n",
    "    \n",
    "    list1.append(end - start)\n",
    "    \n",
    "    start = time.time()\n",
    "    Jacobi(A,b,err)\n",
    "    end = time.time()\n",
    "    \n",
    "    list2.append(end - start)\n",
    "    \n",
    "    start = time.time()\n",
    "    GaussSeidel(A,b,err)\n",
    "   \n",
    "    end = time.time()\n",
    "\n",
    "    list3.append(end - start)\n",
    "    \n",
    "x1 = np.linspace(100,1000,9)\n",
    "y1 = list1\n",
    "\n",
    "x2 = np.linspace(100,1000,9)\n",
    "y2 = list2\n",
    "\n",
    "x3 = np.linspace(100,1000,9)\n",
    "y3 = list3\n",
    "\n",
    "\n",
    "plt.plot(x1, y1, label = 'GaussElim')\n",
    "plt.plot(x2, y2, label = 'Jacobi')\n",
    "plt.plot(x3, y3, label = 'GaussSeidel')\n",
    "\n",
    "plt.xlabel('Matrix Size (n x n)') \n",
    "plt.ylabel('Runtime') \n",
    "\n",
    "plt.title(\"Execution Times: 3 Methods\")\n",
    "plt.legend()\n",
    "plt.show()\n",
    "\n",
    "plt.plot(x2, y2, label = 'Jacobi')\n",
    "plt.plot(x3, y3, label = 'GaussSeidel')\n",
    "\n",
    "plt.xlabel('Matrix Size (n x n)') \n",
    "plt.ylabel('Runtime') \n",
    "\n",
    "plt.title(\"Execution Times: 2 Better Methods\")\n",
    "plt.legend()\n",
    "plt.show()"
   ]
  }
 ],
 "metadata": {
  "kernelspec": {
   "display_name": "Python 3",
   "language": "python",
   "name": "python3"
  },
  "language_info": {
   "codemirror_mode": {
    "name": "ipython",
    "version": 3
   },
   "file_extension": ".py",
   "mimetype": "text/x-python",
   "name": "python",
   "nbconvert_exporter": "python",
   "pygments_lexer": "ipython3",
   "version": "3.7.4"
  }
 },
 "nbformat": 4,
 "nbformat_minor": 2
}
